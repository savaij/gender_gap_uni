{
 "cells": [
  {
   "cell_type": "code",
   "execution_count": 1,
   "id": "85577fed",
   "metadata": {},
   "outputs": [],
   "source": [
    "import pandas as pd\n",
    "import os\n",
    "import re\n",
    "import matplotlib.pyplot as plt"
   ]
  },
  {
   "cell_type": "code",
   "execution_count": 2,
   "id": "1c520ac0",
   "metadata": {},
   "outputs": [],
   "source": [
    "links = ['http://dati.ustat.miur.it/dataset/a60a221d-1c0d-4abb-bc8b-2199f61c205d/resource/0f69cde4-567f-468b-8bc1-fc861ac26590/download/bdg_serie_iscritti.csv',\n",
    "        'http://dati.ustat.miur.it/dataset/a60a221d-1c0d-4abb-bc8b-2199f61c205d/resource/3098c012-08de-4085-b532-66c00e72a6cf/download/bdg_serie_laureati.csv',\n",
    "        'http://dati.ustat.miur.it/dataset/a60a221d-1c0d-4abb-bc8b-2199f61c205d/resource/74fc14c9-571f-4181-888e-ef17e014793e/download/bdg_serie_dottorandi.csv',\n",
    "        'http://dati.ustat.miur.it/dataset/a60a221d-1c0d-4abb-bc8b-2199f61c205d/resource/155998a7-c183-4eb3-b8cd-ca4d7db72b64/download/bdg_serie_dottori.csv']"
   ]
  },
  {
   "cell_type": "code",
   "execution_count": 3,
   "id": "8b9c7415",
   "metadata": {},
   "outputs": [],
   "source": [
    "def leggi_csv(link):\n",
    "    df = pd.read_csv(link,encoding = \"ISO-8859-1\",sep=';')\n",
    "    df = df.rename(columns={\n",
    "        df.columns[-1]:'Numero'\n",
    "    })\n",
    "    categoria = os.path.split(link)[-1][:-4].split('_')[-1]\n",
    "    df['categoria'] = [categoria]*len(df)\n",
    "    return df"
   ]
  },
  {
   "cell_type": "code",
   "execution_count": 4,
   "id": "3340d0de",
   "metadata": {},
   "outputs": [],
   "source": [
    "dfs = [leggi_csv(x) for x in links]"
   ]
  },
  {
   "cell_type": "code",
   "execution_count": 5,
   "id": "d65cd08a",
   "metadata": {},
   "outputs": [],
   "source": [
    "stud = pd.concat(dfs,join='inner')"
   ]
  },
  {
   "cell_type": "code",
   "execution_count": 6,
   "id": "7ad6af77",
   "metadata": {},
   "outputs": [],
   "source": [
    "stud = stud[stud['CorsoTIPO']!='Vecchio Ordinamento'] #leviamo i vecchi ordinamenti"
   ]
  },
  {
   "cell_type": "code",
   "execution_count": 7,
   "id": "8a35ca85",
   "metadata": {},
   "outputs": [
    {
     "data": {
      "text/plain": [
       "array(['2021/2022', '2020/2021', '2019/2020', '2018/2019', '2017/2018',\n",
       "       '2016/2017', '2015/2016', '2014/2015', '2013/2014', '2012/2013',\n",
       "       2021, 2020, 2019, 2018, 2017, 2016, 2015, 2014, 2013, 2012],\n",
       "      dtype=object)"
      ]
     },
     "execution_count": 7,
     "metadata": {},
     "output_type": "execute_result"
    }
   ],
   "source": [
    "stud['ANNO'].unique() #uniformiamo tutto sull'anno a sinistra in quelli con formato x/x+1"
   ]
  },
  {
   "cell_type": "code",
   "execution_count": 8,
   "id": "fe7fddbc",
   "metadata": {},
   "outputs": [],
   "source": [
    "diz = dict(zip(stud['ANNO'].unique()[0:10],stud['ANNO'].unique()[10:])) #mappiamo vecchi valori a nuovi"
   ]
  },
  {
   "cell_type": "code",
   "execution_count": 9,
   "id": "ca19c980",
   "metadata": {},
   "outputs": [],
   "source": [
    "stud['ANNO'].loc[:] = stud['ANNO'].apply(lambda x: diz.get(x, x)).astype(int)"
   ]
  },
  {
   "cell_type": "code",
   "execution_count": 10,
   "id": "fe4b366f",
   "metadata": {},
   "outputs": [],
   "source": [
    "prof = pd.read_csv('http://dati.ustat.miur.it/dataset/a60a221d-1c0d-4abb-bc8b-2199f61c205d/resource/92f2008d-958f-4e9c-ae5c-7a3dd418cd57/download/bdg_serie_academic_staff_ambito.csv',encoding = \"ISO-8859-1\", delimiter=';')"
   ]
  },
  {
   "cell_type": "code",
   "execution_count": 11,
   "id": "9b4ef0bb",
   "metadata": {},
   "outputs": [
    {
     "data": {
      "text/plain": [
       "Index(['ANNO', 'AteneoCOD', 'AteneoNOME', 'AteneoREGIONE', 'AteneoAREAGEO',\n",
       "       'CorsoTIPO', 'COD_FoET2013', 'DESC_FoET2013', 'Genere', 'Numero',\n",
       "       'categoria'],\n",
       "      dtype='object')"
      ]
     },
     "execution_count": 11,
     "metadata": {},
     "output_type": "execute_result"
    }
   ],
   "source": [
    "stud.columns"
   ]
  },
  {
   "cell_type": "code",
   "execution_count": 12,
   "id": "6af52a24",
   "metadata": {},
   "outputs": [],
   "source": [
    "prof = prof.rename(columns={\n",
    "    'CODICE_ATENEO':'AteneoCOD',\n",
    "    'NOME_ATENEO':'AteneoNOME',\n",
    "    'REGIONE':'AteneoREGIONE',\n",
    "    'AREA_GEO': 'AteneoAREAGEO',\n",
    "    'GENERE':'Genere',\n",
    "    'N_AcStaff':'Numero',\n",
    "    'GRADE':'categoria'\n",
    "})"
   ]
  },
  {
   "cell_type": "code",
   "execution_count": 13,
   "id": "fcd51292",
   "metadata": {},
   "outputs": [],
   "source": [
    "decod = pd.read_csv('http://dati.ustat.miur.it/dataset/a60a221d-1c0d-4abb-bc8b-2199f61c205d/resource/17b34084-9c01-4e90-9260-982fcb982e6a/download/cod_grade.csv', encoding = \"ISO-8859-1\", delimiter=';')"
   ]
  },
  {
   "cell_type": "code",
   "execution_count": 14,
   "id": "6ac87487",
   "metadata": {},
   "outputs": [],
   "source": [
    "decod_grade = dict(zip(decod['GRADE'],decod['Qualifica']))"
   ]
  },
  {
   "cell_type": "code",
   "execution_count": 15,
   "id": "adb32be5",
   "metadata": {},
   "outputs": [],
   "source": [
    "decod_grade['C'] = 'Ricercatore'"
   ]
  },
  {
   "cell_type": "code",
   "execution_count": 17,
   "id": "4152c5da",
   "metadata": {},
   "outputs": [],
   "source": [
    "prof['categoria'] = prof['categoria'].apply(lambda x: decod_grade[x])"
   ]
  },
  {
   "cell_type": "code",
   "execution_count": 18,
   "id": "92160af6",
   "metadata": {},
   "outputs": [],
   "source": [
    "#troviamo per materie prof, se è stem o no!\n",
    "materie_prof = pd.read_csv('http://dati.ustat.miur.it/dataset/a60a221d-1c0d-4abb-bc8b-2199f61c205d/resource/688a0ad5-a4f7-469d-af3d-f7448aa5ae30/download/cod_ford.csv',encoding = \"ISO-8859-1\", delimiter=';')\n",
    "decoder_prof = dict(zip(materie_prof['FoRD'],materie_prof['Area STEM']))"
   ]
  },
  {
   "cell_type": "code",
   "execution_count": 19,
   "id": "c2aa6ad6",
   "metadata": {},
   "outputs": [],
   "source": [
    "prof['STEM'] = prof['FoRD'].apply(lambda x: decoder_prof[x])"
   ]
  },
  {
   "cell_type": "code",
   "execution_count": 20,
   "id": "2164f8fc",
   "metadata": {},
   "outputs": [],
   "source": [
    "#ora stessa cosa per stud\n",
    "materie_stud = pd.read_csv('http://dati.ustat.miur.it/dataset/a60a221d-1c0d-4abb-bc8b-2199f61c205d/resource/3f52db2f-24ce-4605-8e51-5618cc4ff4e3/download/cod_foet2013.csv',encoding = \"ISO-8859-1\", delimiter=';')\n",
    "decoder_stud = dict(zip(materie_stud['ISCED_F_1dgt'],materie_stud['Area STEM']))"
   ]
  },
  {
   "cell_type": "code",
   "execution_count": 21,
   "id": "f1c88349",
   "metadata": {
    "scrolled": true
   },
   "outputs": [
    {
     "data": {
      "text/html": [
       "<div>\n",
       "<style scoped>\n",
       "    .dataframe tbody tr th:only-of-type {\n",
       "        vertical-align: middle;\n",
       "    }\n",
       "\n",
       "    .dataframe tbody tr th {\n",
       "        vertical-align: top;\n",
       "    }\n",
       "\n",
       "    .dataframe thead th {\n",
       "        text-align: right;\n",
       "    }\n",
       "</style>\n",
       "<table border=\"1\" class=\"dataframe\">\n",
       "  <thead>\n",
       "    <tr style=\"text-align: right;\">\n",
       "      <th></th>\n",
       "      <th>ANNO</th>\n",
       "      <th>AteneoCOD</th>\n",
       "      <th>AteneoNOME</th>\n",
       "      <th>AteneoREGIONE</th>\n",
       "      <th>AteneoAREAGEO</th>\n",
       "      <th>CorsoTIPO</th>\n",
       "      <th>COD_FoET2013</th>\n",
       "      <th>DESC_FoET2013</th>\n",
       "      <th>Genere</th>\n",
       "      <th>Numero</th>\n",
       "      <th>categoria</th>\n",
       "    </tr>\n",
       "  </thead>\n",
       "  <tbody>\n",
       "    <tr>\n",
       "      <th>26902</th>\n",
       "      <td>2012</td>\n",
       "      <td>04101</td>\n",
       "      <td>Urbino - Università degli studi \"Carlo Bo\"</td>\n",
       "      <td>Marche</td>\n",
       "      <td>CENTRO</td>\n",
       "      <td>Laurea</td>\n",
       "      <td>10</td>\n",
       "      <td>Services</td>\n",
       "      <td>M</td>\n",
       "      <td>128</td>\n",
       "      <td>laureati</td>\n",
       "    </tr>\n",
       "  </tbody>\n",
       "</table>\n",
       "</div>"
      ],
      "text/plain": [
       "       ANNO AteneoCOD                                  AteneoNOME  \\\n",
       "26902  2012     04101  Urbino - Università degli studi \"Carlo Bo\"   \n",
       "\n",
       "      AteneoREGIONE AteneoAREAGEO CorsoTIPO  COD_FoET2013 DESC_FoET2013  \\\n",
       "26902        Marche        CENTRO    Laurea            10      Services   \n",
       "\n",
       "      Genere  Numero categoria  \n",
       "26902      M     128  laureati  "
      ]
     },
     "execution_count": 21,
     "metadata": {},
     "output_type": "execute_result"
    }
   ],
   "source": [
    "stud.sample()"
   ]
  },
  {
   "cell_type": "code",
   "execution_count": 22,
   "id": "47204887",
   "metadata": {},
   "outputs": [],
   "source": [
    "stud['STEM'] = stud['COD_FoET2013'].apply(lambda x: decoder_stud[x])"
   ]
  },
  {
   "cell_type": "code",
   "execution_count": 23,
   "id": "01d320b9",
   "metadata": {},
   "outputs": [],
   "source": [
    "df = pd.concat([stud,prof],join='inner') #adesso sappiamo se sono STEM o no!"
   ]
  },
  {
   "cell_type": "code",
   "execution_count": 42,
   "id": "ef16e67e",
   "metadata": {},
   "outputs": [],
   "source": [
    "df['STEM'] = df['STEM'].replace('No',False).replace('Sì',True).astype(bool) #trasformiamo in booleani"
   ]
  },
  {
   "cell_type": "code",
   "execution_count": 329,
   "id": "7de47d50",
   "metadata": {},
   "outputs": [],
   "source": [
    "def conto(df, relative=False, flourish=False): \n",
    "    '''\n",
    "    \n",
    "    \n",
    "    \n",
    "    big funzione che serve a fare i conti\n",
    "    \n",
    "    \n",
    "    '''\n",
    "    \n",
    "    df = df.groupby(['categoria','Genere']).agg({\n",
    "        'Numero':pd.Series.sum\n",
    "    }).reset_index()\n",
    "    \n",
    "    def ordina(colonna): #funzione di supporto solo per averli in ordine \n",
    "        diz = {\n",
    "            'iscritti':0,\n",
    "            'laureati':1,\n",
    "            'dottorandi':2,\n",
    "            'dottori':3,\n",
    "            'Assegnista di Ricerca':4,\n",
    "            'Ricercatore':5,\n",
    "            'Prof. Associato':6,\n",
    "            'Prof. Ordinario':7\n",
    "        }\n",
    "        colonna = colonna.apply(lambda x:diz[x])\n",
    "        return colonna\n",
    "    \n",
    "    df = df.sort_values(by=['categoria'],key=ordina)\n",
    "    \n",
    "    if flourish:\n",
    "        return df\n",
    "    \n",
    "    M= []\n",
    "    F=[]\n",
    "    colons = []\n",
    "\n",
    "    for cat in diz:\n",
    "        try:\n",
    "            M.append(df[(df['categoria']==cat)&(df['Genere']=='M')]['Numero'].iloc[0])\n",
    "        except IndexError as e:\n",
    "            print(f'M - {cat} ---> {e}')\n",
    "            M.append(0)\n",
    "        \n",
    "        try:\n",
    "            F.append(df[(df['categoria']==cat)&(df['Genere']=='F')]['Numero'].iloc[0])\n",
    "            \n",
    "        except IndexError as e:\n",
    "            print(f'F - {cat} ---> {e}')\n",
    "            F.append(0)\n",
    "            \n",
    "        colons.append(cat)\n",
    "    \n",
    "    ndf = pd.DataFrame([M,F],columns=colons,index=['M','F'])\n",
    "    if relative:\n",
    "        ndf = ndf.apply(lambda x: x/x.sum()*100)\n",
    "        \n",
    "    return ndf\n",
    "\n",
    "pd.DataFrame.conto = conto"
   ]
  },
  {
   "cell_type": "code",
   "execution_count": 220,
   "id": "a0d7ec51",
   "metadata": {},
   "outputs": [],
   "source": [
    "def filtro(df, nome, stem=None, anno=2021): \n",
    "    '''\n",
    "    \n",
    "    funzione per filtrare per università, STEM (False,True,None), anno\n",
    "    \n",
    "    \n",
    "    '''\n",
    "    \n",
    "    if stem is not None:\n",
    "        df = df[df['STEM']==stem]\n",
    "        \n",
    "    return df[(df['AteneoNOME']==nome)&(df['ANNO']==anno)]\n",
    "pd.DataFrame.filtro = filtro"
   ]
  },
  {
   "cell_type": "code",
   "execution_count": 232,
   "id": "23f4e299",
   "metadata": {},
   "outputs": [],
   "source": [
    "def grafico(df,transpose=True,tit=None, relative=True):\n",
    "    \n",
    "    '''\n",
    "    \n",
    "    funzione per fare il grafichetto\n",
    "    \n",
    "    '''\n",
    "    if relative:\n",
    "        df = df.apply(lambda x: x/x.sum()*100)\n",
    "    \n",
    "    if transpose:\n",
    "        df = df.transpose()\n",
    "    \n",
    "    fig,ax = plt.subplots(figsize=(14,6))\n",
    "    plt.ylim(0,100)\n",
    "    plt.plot(df['M'],'o-', label='maschi')\n",
    "    plt.plot(df['F'],'o-',label='femmine')\n",
    "    plt.legend()\n",
    "    \n",
    "    if tit:\n",
    "        ax.set_title(tit)\n",
    "\n",
    "    for x,y_m,y_f in zip(df.index,df['M'],df['F']):\n",
    "        plt.annotate(f'{round(y_m,1)}%', # this is the text\n",
    "                         (x,y_m), # these are the coordinates to position the label\n",
    "                         textcoords=\"offset points\", # how to position the text\n",
    "                         xytext=(0,8), # distance from text to points (x,y)\n",
    "                         ha='center',\n",
    "                         size=10,\n",
    "                         style='italic')\n",
    "\n",
    "        plt.annotate(f'{round(y_f,1)}%', # this is the text\n",
    "                         (x,y_f), # these are the coordinates to position the label\n",
    "                         textcoords=\"offset points\", # how to position the text\n",
    "                         xytext=(0,-13), # distance from text to points (x,y)\n",
    "                         ha='center',\n",
    "                         size=10,\n",
    "                         style='italic')\n",
    "    return fig\n",
    "\n",
    "pd.DataFrame.grafico = grafico"
   ]
  },
  {
   "cell_type": "code",
   "execution_count": 233,
   "id": "ebef5da9",
   "metadata": {
    "scrolled": false
   },
   "outputs": [],
   "source": [
    "def indice(df, considera_studenti=False):\n",
    "    '''\n",
    "    Glass Ceiling Index definito dall'UE\n",
    "    \n",
    "    1 = donne hanno le stesse chance degli uomini di essere promosse\n",
    "    0 = donne sono più rappresentate al grado massimo rispetto a uomini\n",
    "    >1 = uomini più rappresentati\n",
    "    \n",
    "    '''\n",
    "    rep_tot_femm = df.loc['F'].iloc[0 if considera_studenti else 5:].sum()\n",
    "    rep_tot = rep_tot_femm + df.loc['M'].iloc[0 if considera_studenti else 5:].sum()\n",
    "    rep_ceil_femm = df.loc['F'].iloc[-1]\n",
    "    rep_ceil = rep_ceil_femm + df.loc['M'].iloc[-1]\n",
    "    \n",
    "    i = (rep_tot_femm/rep_tot) / (rep_ceil_femm/rep_ceil)\n",
    "    \n",
    "    return i\n",
    "\n",
    "pd.DataFrame.indice = indice"
   ]
  },
  {
   "cell_type": "code",
   "execution_count": 304,
   "id": "b5338cf9",
   "metadata": {},
   "outputs": [],
   "source": [
    "uni = 'TOTALE ATENEI'\n",
    "ndf = df.filtro(uni,stem=False).conto()"
   ]
  },
  {
   "cell_type": "code",
   "execution_count": 320,
   "id": "362f2bed",
   "metadata": {},
   "outputs": [
    {
     "ename": "TypeError",
     "evalue": "savefig() missing 1 required positional argument: 'fname'",
     "output_type": "error",
     "traceback": [
      "\u001b[0;31m---------------------------------------------------------------------------\u001b[0m",
      "\u001b[0;31mTypeError\u001b[0m                                 Traceback (most recent call last)",
      "\u001b[0;32m<ipython-input-320-07762be9a552>\u001b[0m in \u001b[0;36m<module>\u001b[0;34m\u001b[0m\n\u001b[0;32m----> 1\u001b[0;31m \u001b[0mndf\u001b[0m\u001b[0;34m.\u001b[0m\u001b[0mgrafico\u001b[0m\u001b[0;34m(\u001b[0m\u001b[0mtit\u001b[0m\u001b[0;34m=\u001b[0m\u001b[0;34mf'{uni}'\u001b[0m\u001b[0;34m)\u001b[0m\u001b[0;34m.\u001b[0m\u001b[0msavefig\u001b[0m\u001b[0;34m(\u001b[0m\u001b[0;34m)\u001b[0m\u001b[0;34m\u001b[0m\u001b[0;34m\u001b[0m\u001b[0m\n\u001b[0m",
      "\u001b[0;31mTypeError\u001b[0m: savefig() missing 1 required positional argument: 'fname'"
     ]
    }
   ],
   "source": [
    "ndf.grafico(tit=f'{uni}').savefig()"
   ]
  },
  {
   "cell_type": "code",
   "execution_count": 325,
   "id": "91233e7e",
   "metadata": {
    "scrolled": true
   },
   "outputs": [
    {
     "name": "stdout",
     "output_type": "stream",
     "text": [
      "M - Assegnista di Ricerca ---> single positional indexer is out-of-bounds\n",
      "F - Assegnista di Ricerca ---> single positional indexer is out-of-bounds\n",
      "M - Assegnista di Ricerca ---> single positional indexer is out-of-bounds\n",
      "F - Prof. Ordinario ---> single positional indexer is out-of-bounds\n",
      "M - Ricercatore ---> single positional indexer is out-of-bounds\n",
      "F - Prof. Ordinario ---> single positional indexer is out-of-bounds\n",
      "F - Assegnista di Ricerca ---> single positional indexer is out-of-bounds\n",
      "F - Assegnista di Ricerca ---> single positional indexer is out-of-bounds\n",
      "M - Ricercatore ---> single positional indexer is out-of-bounds\n",
      "M - dottori ---> single positional indexer is out-of-bounds\n",
      "M - Assegnista di Ricerca ---> single positional indexer is out-of-bounds\n",
      "M - Prof. Associato ---> single positional indexer is out-of-bounds\n",
      "F - Prof. Ordinario ---> single positional indexer is out-of-bounds\n",
      "F - Assegnista di Ricerca ---> single positional indexer is out-of-bounds\n",
      "F - Prof. Ordinario ---> single positional indexer is out-of-bounds\n",
      "F - Prof. Associato ---> single positional indexer is out-of-bounds\n",
      "M - dottori ---> single positional indexer is out-of-bounds\n",
      "M - Prof. Ordinario ---> single positional indexer is out-of-bounds\n",
      "F - Assegnista di Ricerca ---> single positional indexer is out-of-bounds\n",
      "M - Assegnista di Ricerca ---> single positional indexer is out-of-bounds\n",
      "M - Ricercatore ---> single positional indexer is out-of-bounds\n",
      "F - Assegnista di Ricerca ---> single positional indexer is out-of-bounds\n",
      "F - dottorandi ---> single positional indexer is out-of-bounds\n",
      "F - Prof. Ordinario ---> single positional indexer is out-of-bounds\n",
      "F - Prof. Associato ---> single positional indexer is out-of-bounds\n",
      "M - dottori ---> single positional indexer is out-of-bounds\n",
      "F - Assegnista di Ricerca ---> single positional indexer is out-of-bounds\n",
      "M - Prof. Associato ---> single positional indexer is out-of-bounds\n",
      "M - Assegnista di Ricerca ---> single positional indexer is out-of-bounds\n",
      "F - Prof. Ordinario ---> single positional indexer is out-of-bounds\n",
      "M - Assegnista di Ricerca ---> single positional indexer is out-of-bounds\n",
      "F - Ricercatore ---> single positional indexer is out-of-bounds\n",
      "F - Assegnista di Ricerca ---> single positional indexer is out-of-bounds\n",
      "M - Prof. Associato ---> single positional indexer is out-of-bounds\n",
      "F - Prof. Ordinario ---> single positional indexer is out-of-bounds\n",
      "F - Ricercatore ---> single positional indexer is out-of-bounds\n",
      "F - Assegnista di Ricerca ---> single positional indexer is out-of-bounds\n",
      "M - Ricercatore ---> single positional indexer is out-of-bounds\n",
      "M - Prof. Associato ---> single positional indexer is out-of-bounds\n",
      "F - Prof. Ordinario ---> single positional indexer is out-of-bounds\n",
      "M - dottori ---> single positional indexer is out-of-bounds\n",
      "F - Ricercatore ---> single positional indexer is out-of-bounds\n",
      "F - Ricercatore ---> single positional indexer is out-of-bounds\n",
      "F - Prof. Associato ---> single positional indexer is out-of-bounds\n",
      "F - Prof. Ordinario ---> single positional indexer is out-of-bounds\n",
      "M - Prof. Ordinario ---> single positional indexer is out-of-bounds\n",
      "M - dottori ---> single positional indexer is out-of-bounds\n",
      "F - Ricercatore ---> single positional indexer is out-of-bounds\n",
      "M - Assegnista di Ricerca ---> single positional indexer is out-of-bounds\n",
      "F - Prof. Ordinario ---> single positional indexer is out-of-bounds\n",
      "M - Assegnista di Ricerca ---> single positional indexer is out-of-bounds\n",
      "M - Ricercatore ---> single positional indexer is out-of-bounds\n",
      "F - Prof. Associato ---> single positional indexer is out-of-bounds\n",
      "F - Prof. Ordinario ---> single positional indexer is out-of-bounds\n",
      "M - dottori ---> single positional indexer is out-of-bounds\n",
      "F - Prof. Ordinario ---> single positional indexer is out-of-bounds\n",
      "F - Prof. Associato ---> single positional indexer is out-of-bounds\n",
      "F - Prof. Ordinario ---> single positional indexer is out-of-bounds\n",
      "M - dottori ---> single positional indexer is out-of-bounds\n",
      "F - Prof. Associato ---> single positional indexer is out-of-bounds\n",
      "F - Prof. Ordinario ---> single positional indexer is out-of-bounds\n",
      "F - Prof. Associato ---> single positional indexer is out-of-bounds\n",
      "F - Ricercatore ---> single positional indexer is out-of-bounds\n",
      "M - Ricercatore ---> single positional indexer is out-of-bounds\n",
      "M - Ricercatore ---> single positional indexer is out-of-bounds\n",
      "F - Prof. Ordinario ---> single positional indexer is out-of-bounds\n"
     ]
    }
   ],
   "source": [
    "for ateneo in df['AteneoNOME'].unique():\n",
    "    \n",
    "    ndf = df.filtro(ateneo, stem=False).conto()\n",
    "    if 'iscritti' in ndf.columns and ndf['iscritti'].sum() > 15000:\n",
    "        path = f'/Users/sava/Desktop/Università genere/{ateneo}/NO_STEM'\n",
    "        os.makedirs(path,exist_ok=True)\n",
    "        ndf.to_csv(f'{path}/no_stem.csv')\n",
    "        fig = ndf.grafico(tit=f'{ateneo} - no stem')\n",
    "        fig.savefig(f'{path}/no_stem.png')\n",
    "    \n",
    "    ndf = df.filtro(ateneo, stem=True).conto()\n",
    "    \n",
    "    if 'iscritti' in ndf.columns and ndf['iscritti'].sum() > 15000:\n",
    "        path = f'/Users/sava/Desktop/Università genere/{ateneo}/STEM'\n",
    "        os.makedirs(path,exist_ok=True)\n",
    "        ndf.to_csv(f'{path}/stem.csv')\n",
    "        ndf.grafico(tit=f'{ateneo} - stem')\n",
    "        fig = ndf.grafico(tit=f'{ateneo} - no stem')\n",
    "        fig.savefig(f'{path}/stem.png')"
   ]
  },
  {
   "cell_type": "code",
   "execution_count": 339,
   "id": "bf48f630",
   "metadata": {},
   "outputs": [
    {
     "data": {
      "text/plain": [
       "array(['ITALIA', 'Sardegna', 'Sicilia', 'Calabria', 'Basilicata',\n",
       "       'Puglia', 'Molise', 'Abruzzo', 'Campania', 'Lazio', 'Umbria',\n",
       "       'Toscana', 'Marche', 'Emilia-Romagna', 'Friuli-Venezia Giulia',\n",
       "       'Veneto', 'Trentino-Alto Adige', 'Lombardia', 'Liguria',\n",
       "       \"Valle d'Aosta\", 'Piemonte'], dtype=object)"
      ]
     },
     "execution_count": 339,
     "metadata": {},
     "output_type": "execute_result"
    }
   ],
   "source": [
    "df['AteneoREGIONE'].unique()"
   ]
  },
  {
   "cell_type": "code",
   "execution_count": null,
   "id": "f2680b48",
   "metadata": {},
   "outputs": [],
   "source": []
  }
 ],
 "metadata": {
  "kernelspec": {
   "display_name": "Python 3",
   "language": "python",
   "name": "python3"
  },
  "language_info": {
   "codemirror_mode": {
    "name": "ipython",
    "version": 3
   },
   "file_extension": ".py",
   "mimetype": "text/x-python",
   "name": "python",
   "nbconvert_exporter": "python",
   "pygments_lexer": "ipython3",
   "version": "3.7.13"
  }
 },
 "nbformat": 4,
 "nbformat_minor": 5
}
